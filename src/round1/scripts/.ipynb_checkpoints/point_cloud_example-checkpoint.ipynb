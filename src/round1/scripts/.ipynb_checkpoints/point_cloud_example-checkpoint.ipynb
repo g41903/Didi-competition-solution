{
 "cells": [
  {
   "cell_type": "code",
   "execution_count": null,
   "metadata": {
    "collapsed": true
   },
   "outputs": [],
   "source": [
    "#!/usr/bin/env python\n",
    "import rospy\n",
    "from sensor_msgs.msg import PointCloud2\n",
    "# show how to subscribe velodyne points from velodyne_points and publish to /point_cloud_pub_topic\n",
    "class PointCloudExample():\n",
    "    def __init__(self):\n",
    "        # img subscriber\n",
    "        rospy.Subscriber(\"/velodyne_points\",PointCloud2,self.point_cloud_callback)\n",
    "        # script publisher\n",
    "        self.point_cloud_pub=rospy.Publisher(\"/point_cloud_pub_topic\",PointCloud2,queue_size=5)\n",
    "    \n",
    "    # callback function which processes the imgs after the subscription\n",
    "    def point_cloud_callback(self,msg):\n",
    "        rospy.loginfo(\"subscribe point cloud successfully\")\n",
    "        self.point_cloud_pub.publish(msg)\n",
    "    \n",
    "if __name__ == '__main__':\n",
    "    rospy.init_node(\"point_cloud_example\")\n",
    "    node = PointCloudExample()\n",
    "    rospy.spin()\n"
   ]
  }
 ],
 "metadata": {
  "kernelspec": {
   "display_name": "Python 2",
   "language": "python",
   "name": "python2"
  },
  "language_info": {
   "codemirror_mode": {
    "name": "ipython",
    "version": 2
   },
   "file_extension": ".py",
   "mimetype": "text/x-python",
   "name": "python",
   "nbconvert_exporter": "python",
   "pygments_lexer": "ipython2",
   "version": "2.7.12"
  }
 },
 "nbformat": 4,
 "nbformat_minor": 2
}
